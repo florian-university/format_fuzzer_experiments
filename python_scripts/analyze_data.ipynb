{
 "cells": [
  {
   "cell_type": "code",
   "execution_count": 94,
   "metadata": {
    "collapsed": true
   },
   "outputs": [],
   "source": [
    "import pandas as pd\n",
    "import matplotlib"
   ]
  },
  {
   "cell_type": "code",
   "execution_count": 95,
   "outputs": [],
   "source": [
    "def get_time(df: pd.DataFrame, hour):\n",
    "    timestamps = df['# unix_time']\n",
    "    for i in timestamps.index:\n",
    "        if timestamps[i] > hour:\n",
    "            return i"
   ],
   "metadata": {
    "collapsed": false,
    "pycharm": {
     "name": "#%%\n"
    }
   }
  },
  {
   "cell_type": "code",
   "execution_count": 96,
   "outputs": [
    {
     "data": {
      "text/plain": "       # unix_time   cycles_done   cur_path   paths_total   pending_total  \\\n0         0.000000             0          0            32              32   \n1         0.001389             0         14           142             141   \n2         0.002778             0         14           146             145   \n3         0.004444             0         28           178             176   \n4         0.005833             0         32           189             186   \n...            ...           ...        ...           ...             ...   \n22657    41.918611          2107        177           251               0   \n22658    41.920000          2107        201           251               0   \n22659    41.921667          2107        212           251               0   \n22660    41.923056          2107        248           251               0   \n22661    41.932500          2108         32           251               0   \n\n        pending_favs   map_size   unique_crashes   unique_hangs   max_depth  \\\n0                  4       0.22                0              0           1   \n1                 38       0.31                0              0           2   \n2                 38       0.31                0              0           2   \n3                 40       0.31                0              0           2   \n4                 41       0.31                0              0           2   \n...              ...        ...              ...            ...         ...   \n22657              0       0.32                0              1          15   \n22658              0       0.32                0              1          15   \n22659              0       0.32                0              1          15   \n22660              0       0.32                0              1          15   \n22661              0       0.32                0              2          15   \n\n        execs_per_sec  \n0              675.46  \n1             3023.20  \n2              959.05  \n3             1033.36  \n4             1441.73  \n...               ...  \n22657         3195.92  \n22658         2967.71  \n22659         2298.30  \n22660          426.66  \n22661           10.28  \n\n[22662 rows x 11 columns]",
      "text/html": "<div>\n<style scoped>\n    .dataframe tbody tr th:only-of-type {\n        vertical-align: middle;\n    }\n\n    .dataframe tbody tr th {\n        vertical-align: top;\n    }\n\n    .dataframe thead th {\n        text-align: right;\n    }\n</style>\n<table border=\"1\" class=\"dataframe\">\n  <thead>\n    <tr style=\"text-align: right;\">\n      <th></th>\n      <th># unix_time</th>\n      <th>cycles_done</th>\n      <th>cur_path</th>\n      <th>paths_total</th>\n      <th>pending_total</th>\n      <th>pending_favs</th>\n      <th>map_size</th>\n      <th>unique_crashes</th>\n      <th>unique_hangs</th>\n      <th>max_depth</th>\n      <th>execs_per_sec</th>\n    </tr>\n  </thead>\n  <tbody>\n    <tr>\n      <th>0</th>\n      <td>0.000000</td>\n      <td>0</td>\n      <td>0</td>\n      <td>32</td>\n      <td>32</td>\n      <td>4</td>\n      <td>0.22</td>\n      <td>0</td>\n      <td>0</td>\n      <td>1</td>\n      <td>675.46</td>\n    </tr>\n    <tr>\n      <th>1</th>\n      <td>0.001389</td>\n      <td>0</td>\n      <td>14</td>\n      <td>142</td>\n      <td>141</td>\n      <td>38</td>\n      <td>0.31</td>\n      <td>0</td>\n      <td>0</td>\n      <td>2</td>\n      <td>3023.20</td>\n    </tr>\n    <tr>\n      <th>2</th>\n      <td>0.002778</td>\n      <td>0</td>\n      <td>14</td>\n      <td>146</td>\n      <td>145</td>\n      <td>38</td>\n      <td>0.31</td>\n      <td>0</td>\n      <td>0</td>\n      <td>2</td>\n      <td>959.05</td>\n    </tr>\n    <tr>\n      <th>3</th>\n      <td>0.004444</td>\n      <td>0</td>\n      <td>28</td>\n      <td>178</td>\n      <td>176</td>\n      <td>40</td>\n      <td>0.31</td>\n      <td>0</td>\n      <td>0</td>\n      <td>2</td>\n      <td>1033.36</td>\n    </tr>\n    <tr>\n      <th>4</th>\n      <td>0.005833</td>\n      <td>0</td>\n      <td>32</td>\n      <td>189</td>\n      <td>186</td>\n      <td>41</td>\n      <td>0.31</td>\n      <td>0</td>\n      <td>0</td>\n      <td>2</td>\n      <td>1441.73</td>\n    </tr>\n    <tr>\n      <th>...</th>\n      <td>...</td>\n      <td>...</td>\n      <td>...</td>\n      <td>...</td>\n      <td>...</td>\n      <td>...</td>\n      <td>...</td>\n      <td>...</td>\n      <td>...</td>\n      <td>...</td>\n      <td>...</td>\n    </tr>\n    <tr>\n      <th>22657</th>\n      <td>41.918611</td>\n      <td>2107</td>\n      <td>177</td>\n      <td>251</td>\n      <td>0</td>\n      <td>0</td>\n      <td>0.32</td>\n      <td>0</td>\n      <td>1</td>\n      <td>15</td>\n      <td>3195.92</td>\n    </tr>\n    <tr>\n      <th>22658</th>\n      <td>41.920000</td>\n      <td>2107</td>\n      <td>201</td>\n      <td>251</td>\n      <td>0</td>\n      <td>0</td>\n      <td>0.32</td>\n      <td>0</td>\n      <td>1</td>\n      <td>15</td>\n      <td>2967.71</td>\n    </tr>\n    <tr>\n      <th>22659</th>\n      <td>41.921667</td>\n      <td>2107</td>\n      <td>212</td>\n      <td>251</td>\n      <td>0</td>\n      <td>0</td>\n      <td>0.32</td>\n      <td>0</td>\n      <td>1</td>\n      <td>15</td>\n      <td>2298.30</td>\n    </tr>\n    <tr>\n      <th>22660</th>\n      <td>41.923056</td>\n      <td>2107</td>\n      <td>248</td>\n      <td>251</td>\n      <td>0</td>\n      <td>0</td>\n      <td>0.32</td>\n      <td>0</td>\n      <td>1</td>\n      <td>15</td>\n      <td>426.66</td>\n    </tr>\n    <tr>\n      <th>22661</th>\n      <td>41.932500</td>\n      <td>2108</td>\n      <td>32</td>\n      <td>251</td>\n      <td>0</td>\n      <td>0</td>\n      <td>0.32</td>\n      <td>0</td>\n      <td>2</td>\n      <td>15</td>\n      <td>10.28</td>\n    </tr>\n  </tbody>\n</table>\n<p>22662 rows × 11 columns</p>\n</div>"
     },
     "execution_count": 96,
     "metadata": {},
     "output_type": "execute_result"
    }
   ],
   "source": [
    "df = pd.read_csv('/home/florian/uni/cysec_project/colossus11/experiment_results/docker_run/run-giflib-1/out/corpus/plot_data')\n",
    "\n",
    "# convert map_size string to float\n",
    "df[' map_size'] = df[' map_size'].apply(lambda x: float(x[0:-1]))\n",
    "# convert unix time to hours\n",
    "df['# unix_time'] = df['# unix_time'].apply(lambda x: (x - df['# unix_time'][0])/3600)\n",
    "\n",
    "df"
   ],
   "metadata": {
    "collapsed": false,
    "pycharm": {
     "name": "#%%\n"
    }
   }
  },
  {
   "cell_type": "code",
   "execution_count": 97,
   "outputs": [
    {
     "data": {
      "text/plain": "<AxesSubplot:xlabel='# unix_time'>"
     },
     "execution_count": 97,
     "metadata": {},
     "output_type": "execute_result"
    },
    {
     "data": {
      "text/plain": "<Figure size 432x288 with 1 Axes>",
      "image/png": "[encoded data removed]"
     },
     "metadata": {
      "needs_background": "light"
     },
     "output_type": "display_data"
    }
   ],
   "source": [
    "df.head(10).plot(x='# unix_time', y=' map_size')"
   ],
   "metadata": {
    "collapsed": false,
    "pycharm": {
     "name": "#%%\n"
    }
   }
  },
  {
   "cell_type": "code",
   "execution_count": 98,
   "outputs": [
    {
     "data": {
      "text/plain": "<AxesSubplot:xlabel='# unix_time'>"
     },
     "execution_count": 98,
     "metadata": {},
     "output_type": "execute_result"
    },
    {
     "data": {
      "text/plain": "<Figure size 432x288 with 1 Axes>",
      "image/png": "[encoded data removed]"
     },
     "metadata": {
      "needs_background": "light"
     },
     "output_type": "display_data"
    }
   ],
   "source": [
    "df.head(get_time(df, 12)).plot(x='# unix_time',y=' paths_total')"
   ],
   "metadata": {
    "collapsed": false,
    "pycharm": {
     "name": "#%%\n"
    }
   }
  },
  {
   "cell_type": "code",
   "execution_count": 98,
   "outputs": [],
   "source": [],
   "metadata": {
    "collapsed": false,
    "pycharm": {
     "name": "#%%\n"
    }
   }
  }
 ],
 "metadata": {
  "kernelspec": {
   "display_name": "Python 3",
   "language": "python",
   "name": "python3"
  },
  "language_info": {
   "codemirror_mode": {
    "name": "ipython",
    "version": 2
   },
   "file_extension": ".py",
   "mimetype": "text/x-python",
   "name": "python",
   "nbconvert_exporter": "python",
   "pygments_lexer": "ipython2",
   "version": "2.7.6"
  }
 },
 "nbformat": 4,
 "nbformat_minor": 0
}